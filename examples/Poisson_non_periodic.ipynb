{
 "cells": [
  {
   "cell_type": "markdown",
   "metadata": {},
   "source": [
    "# Solving Poisson's equation on topological domains\n",
    "In this notebook, we will show how to solve poisson's equation on single patch and multipatch domains. As we are running this in a notebook, everything will be run in serial and hence we are limiting ourselves to a fairly coarse discretization to avoid taking too much time. However Psydac allows for hybrid MPI + OpenMP parallelization.  \n",
    "The lines that can be changed to allow for MPI usage will be precedeed by their MPI using counterpart."
   ]
  },
  {
   "cell_type": "markdown",
   "metadata": {},
   "source": [
    "## Step 1 : Building the domain\n",
    "Psydac uses the powerful topological tools of SymPDE to build a large variety of domains. Here we show how to do a quarter annulus using a Square and a polar mapping and how to join two annulus to create a multipatch domain. Left commented is an example of a complex multipatch domain built using SymPDE."
   ]
  },
  {
   "cell_type": "code",
   "execution_count": 1,
   "metadata": {},
   "outputs": [
    {
     "data": {
      "image/png": "[encoded data removed]",
      "text/plain": [
       "<Figure size 432x288 with 1 Axes>"
      ]
     },
     "metadata": {
      "needs_background": "light"
     },
     "output_type": "display_data"
    }
   ],
   "source": [
    "import numpy as np\n",
    "\n",
    "from sympde.topology import Square, PolarMapping\n",
    "from sympde.utilities.utils import plot_domain\n",
    "\n",
    "from psydac.api.tests.build_domain import build_pretzel\n",
    "\n",
    "# Define the topological geometry for each patch\n",
    "rmin, rmax = 0.3, 1.\n",
    "\n",
    "# First quarter annulus\n",
    "domain_log_1 = Square('A_1', bounds1=(0., 1.), bounds2=(0., np.pi/2))\n",
    "F_1 = PolarMapping('F_1', dim=2, c1=0., c2=0., rmin=rmin, rmax=rmax)\n",
    "Omega_1 = F_1(domain_log_1)\n",
    "\n",
    "# Second quarter annulus\n",
    "domain_log_2 = Square('A_2', bounds1=(0., 1.), bounds2=(np.pi, 3/2 * np.pi))\n",
    "F_2 = PolarMapping('F_1', dim=2, c1=rmin+rmax, c2=0., rmin=rmin, rmax=rmax)\n",
    "Omega_2 = F_2(domain_log_2)\n",
    "\n",
    "# Join the patches\n",
    "Omega = Omega_1.join(Omega_2, 'Omega', \n",
    "                     bnd_minus=Omega_1.get_boundary(axis=1, ext=-1),\n",
    "                     bnd_plus=Omega_2.get_boundary(axis=1, ext=-1),\n",
    ")\n",
    "\n",
    "# Example of a complex multi-patch domain\n",
    "# Omega = build_pretzel()\n",
    "\n",
    "# Simple visualization of the topological domain\n",
    "plot_domain(Omega, draw=False)"
   ]
  },
  {
   "cell_type": "markdown",
   "metadata": {},
   "source": [
    "## Step 2: Defining the Abstract PDE model using SymPDE"
   ]
  },
  {
   "cell_type": "code",
   "execution_count": 40,
   "metadata": {},
   "outputs": [],
   "source": [
    "from sympde.calculus import grad, dot\n",
    "from sympde.calculus import minus, plus\n",
    "\n",
    "from sympde.expr.expr          import LinearForm, BilinearForm\n",
    "from sympde.expr.expr          import integral              \n",
    "from sympde.expr.expr          import Norm                       \n",
    "from sympde.expr               import find, EssentialBC\n",
    "\n",
    "from sympde.topology import ScalarFunctionSpace\n",
    "from sympde.topology import elements_of\n",
    "from sympde.topology import NormalVector\n",
    "\n",
    "# Define the abstract model to solve Poisson's equation using the manufactured solution method\n",
    "x,y       = Omega.coordinates\n",
    "solution  = x**2 + y**2\n",
    "f         = -4\n",
    "\n",
    "V   = ScalarFunctionSpace('V', Omega, kind=None)\n",
    "\n",
    "u, v = elements_of(V, names='u, v')\n",
    "nn   = NormalVector('nn')\n",
    "\n",
    "bc   = EssentialBC(u, solution, Omega.boundary)\n",
    "\n",
    "error  = u - solution\n",
    "\n",
    "I = Omega.interfaces\n",
    "\n",
    "kappa  = 10**3\n",
    "\n",
    "expr_I =- 0.5*dot(grad(plus(u)),nn)*minus(v)  + 0.5*dot(grad(minus(v)),nn)*plus(u)  - kappa*plus(u)*minus(v)\\\n",
    "        + 0.5*dot(grad(minus(u)),nn)*plus(v)  - 0.5*dot(grad(plus(v)),nn)*minus(u)  - kappa*plus(v)*minus(u)\\\n",
    "        - 0.5*dot(grad(minus(v)),nn)*minus(u) - 0.5*dot(grad(minus(u)),nn)*minus(v) + kappa*minus(u)*minus(v)\\\n",
    "        + 0.5*dot(grad(plus(v)),nn)*plus(u)   + 0.5*dot(grad(plus(u)),nn)*plus(v)   + kappa*plus(u)*plus(v)\n",
    "\n",
    "expr   = dot(grad(u),grad(v))\n",
    "\n",
    "a = BilinearForm((u,v),  integral(Omega, expr) + integral(I, expr_I))\n",
    "l = LinearForm(v, integral(Omega, f*v))\n",
    "\n",
    "equation = find(u, forall=v, lhs=a(u,v), rhs=l(v), bc=bc)\n",
    "\n",
    "l2norm = Norm(error, Omega, kind='l2')\n",
    "h1norm = Norm(error, Omega, kind='h1')"
   ]
  },
  {
   "cell_type": "markdown",
   "metadata": {},
   "source": [
    "## Step 3: Discretizing the domain, spaces and equations"
   ]
  },
  {
   "cell_type": "code",
   "execution_count": 41,
   "metadata": {},
   "outputs": [],
   "source": [
    "# Discretize the geometry and equation\n",
    "from psydac.api.discretization import discretize\n",
    "from psydac.api.settings import PSYDAC_BACKENDS\n",
    "\n",
    "# The backends are as follows and can all be run with OpenMP by setting backend['omp'] = True.\n",
    "# For all but the Python backend, compilation flags can be accessed and changed using backend['flags'].\n",
    "# - Python backend: Generate and runs python files. Accessed via PSYDAC_BACKENDS['python']\n",
    "# - Pyccel GCC backend: Accessed via PSYDAC_BACKENDS['pyccel-gcc']\n",
    "# - Pyccel Intel backend: Accessed via PSYDAC_BACKENDS['pyccel-intel']\n",
    "# - Pyccel PGI backend: Accessed via PSYDAC_BACKENDS['pyccel-pgi']\n",
    "# - Pyccel Numba backend: Accessed via PSYDAC_BACKENDS['numba']\n",
    "\n",
    "backend = PSYDAC_BACKENDS['python']\n",
    "\n",
    "# Uncomment to use OpenMp\n",
    "# import os\n",
    "# os.environ['OMP_NUM_THREADS'] = \"4\"\n",
    "# backend['omp'] = True\n",
    "\n",
    "ncells = [10, 10]\n",
    "degree = [2, 2]\n",
    "\n",
    "# MPI version\n",
    "# from mpi4py import MPI\n",
    "# comm = MPI.COMM_WORLD\n",
    "# Omega_h = discretize(Omega, ncells=ncells, comm=comm)\n",
    "Omega_h = discretize(Omega, ncells=ncells)\n",
    "\n",
    "Vh         = discretize(V, Omega_h, degree=degree, periodic=[False, False])\n",
    "equation_h = discretize(equation, Omega_h, [Vh, Vh], backend=backend)\n",
    "l2norm_h   = discretize(l2norm, Omega_h, Vh, backend=backend)\n",
    "h1norm_h   = discretize(h1norm, Omega_h, Vh, backend=backend)"
   ]
  },
  {
   "cell_type": "markdown",
   "metadata": {},
   "source": [
    "## Step 4: Solving the equation and computing the error norms"
   ]
  },
  {
   "cell_type": "code",
   "execution_count": 42,
   "metadata": {},
   "outputs": [
    {
     "name": "stdout",
     "output_type": "stream",
     "text": [
      "> CG info       ::  {'niter': 109, 'success': True, 'res_norm': 5.704506834276634e-15}\n",
      "> L2 error      :: 9.14e-02\n",
      "> H1 error      :: 1.62e+00\n",
      "> Solution time :: 1.42e+01s\n",
      "> Evaluat. time :: 4.73e-01s \n"
     ]
    }
   ],
   "source": [
    "# Set the solver parameters\n",
    "# 'cg' -> Conjugate gradient method\n",
    "equation_h.set_solver('cg', info=True, tol=1e-14)\n",
    "\n",
    "import time\n",
    "\n",
    "t0_s     = time.time()\n",
    "uh, info = equation_h.solve()\n",
    "t1_s     = time.time()\n",
    "\n",
    "\n",
    "t0_d     = time.time()\n",
    "l2_error = l2norm_h.assemble(u=uh)\n",
    "h1_error = h1norm_h.assemble(u=uh)\n",
    "t1_d     = time.time()\n",
    "\n",
    "print( '> CG info       :: ',info )\n",
    "print( '> L2 error      :: {:.2e}'.format(l2_error))\n",
    "print( '> H1 error      :: {:.2e}'.format(h1_error))\n",
    "print( '> Solution time :: {:.2e}s'.format(t1_s - t0_s))\n",
    "print( '> Evaluat. time :: {:.2e}s '.format(t1_d - t0_d))"
   ]
  },
  {
   "cell_type": "markdown",
   "metadata": {},
   "source": [
    "## Step 5: Saving the results"
   ]
  },
  {
   "cell_type": "code",
   "execution_count": 43,
   "metadata": {},
   "outputs": [],
   "source": [
    "# Save the results using OutputManager\n",
    "from psydac.api.postprocessing import OutputManager\n",
    "import os\n",
    "\n",
    "os.makedirs('results_poisson', exist_ok=True)\n",
    "\n",
    "Om = OutputManager(\n",
    "    f'results_poisson/space_info_{Omega.name}',\n",
    "    f'results_poisson/field_info_{Omega.name}',\n",
    "# MPI version\n",
    "#   comm=comm,    \n",
    ")\n",
    "\n",
    "Om.add_spaces(V=Vh)\n",
    "Om.export_space_info()\n",
    "\n",
    "Om.set_static()\n",
    "Om.export_fields(u=uh)\n",
    "\n",
    "Om.close()"
   ]
  },
  {
   "cell_type": "markdown",
   "metadata": {},
   "source": [
    "## Step 6: Exporting the results to VTK and visualizing them with Paraview"
   ]
  },
  {
   "cell_type": "code",
   "execution_count": 44,
   "metadata": {},
   "outputs": [],
   "source": [
    "# Export the results to VTK using PostProcessManager\n",
    "from psydac.api.postprocessing import PostProcessManager\n",
    "from sympy import lambdify\n",
    "\n",
    "Pm = PostProcessManager(\n",
    "    domain=Omega,\n",
    "    space_file=f'results_poisson/space_info_{Omega.name}.yml',\n",
    "    fields_file=f'results_poisson/field_info_{Omega.name}.h5',\n",
    "# MPI version\n",
    "#   comm=comm,    \n",
    ")\n",
    "\n",
    "Pm.export_to_vtk(\n",
    "    f'results_poisson/visu_{Omega.name}',\n",
    "    grid=None,\n",
    "    npts_per_cell=3,\n",
    "    fields='u',\n",
    "    additional_physical_functions={'exact_solution': lambdify(Omega.coordinates, solution, modules='numpy')}\n",
    ")\n",
    "\n",
    "Pm.close()"
   ]
  },
  {
   "cell_type": "markdown",
   "metadata": {},
   "source": [
    "### Example: Results on the pretzel domain\n",
    "\n",
    "<p float=\"left\">\n",
    "  <img src=\"./paraview_images/poisson_pretzel_u.png\" width=\"32%\" />\n",
    "  <img src=\"./paraview_images/poisson_pretzel_exact.png\" width=\"32%\" />\n",
    "  <img src=\"./paraview_images/poisson_pretzel_error.png\" width=\"32%\" />\n",
    "</p>"
   ]
  }
 ],
 "metadata": {
  "kernelspec": {
   "display_name": "Python 3.8.10 64-bit",
   "language": "python",
   "name": "python3"
  },
  "language_info": {
   "codemirror_mode": {
    "name": "ipython",
    "version": 3
   },
   "file_extension": ".py",
   "mimetype": "text/x-python",
   "name": "python",
   "nbconvert_exporter": "python",
   "pygments_lexer": "ipython3",
   "version": "3.8.10"
  },
  "vscode": {
   "interpreter": {
    "hash": "e7370f93d1d0cde622a1f8e1c04877d8463912d04d973331ad4851f04de6915a"
   }
  }
 },
 "nbformat": 4,
 "nbformat_minor": 4
}
